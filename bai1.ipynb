{
 "cells": [
  {
   "cell_type": "code",
   "execution_count": 6,
   "id": "e08adf82",
   "metadata": {},
   "outputs": [
    {
     "name": "stdout",
     "output_type": "stream",
     "text": [
      "Nhập chuỗi cần lặp:dfg\n",
      "Nhập số lần lặp:3\n",
      "dfg\n",
      "dfg\n",
      "dfg\n",
      "\n"
     ]
    }
   ],
   "source": [
    "#Bài 1\n",
    "chuoi = input(\"Nhập chuỗi cần lặp:\")\n",
    "lan = int(input(\"Nhập số lần lặp:\"))\n",
    "print((chuoi+\"\\n\")*lan)"
   ]
  },
  {
   "cell_type": "code",
   "execution_count": 8,
   "id": "1d3c2704",
   "metadata": {},
   "outputs": [
    {
     "name": "stdout",
     "output_type": "stream",
     "text": [
      "Nhập số năm:1989\n",
      "Năm trước năm 1989 là năm 1988 \n",
      "Năm sau năm 1989 là năm 1990\n"
     ]
    }
   ],
   "source": [
    "#Bài 2\n",
    "nam = int(input(\"Nhập số năm:\"))\n",
    "nam_truoc = nam-1\n",
    "nam_sau = nam+1\n",
    "print(f\"Năm trước năm {nam} là năm {nam_truoc} \\nNăm sau năm {nam} là năm {nam_sau}\")"
   ]
  },
  {
   "cell_type": "code",
   "execution_count": 24,
   "id": "d3116564",
   "metadata": {},
   "outputs": [
    {
     "name": "stdout",
     "output_type": "stream",
     "text": [
      "Nhập chuỗi cần đảo:tôi là ai\n",
      "ia àl iôt\n"
     ]
    }
   ],
   "source": [
    "#Bài 3\n",
    "chuoi = input(\"Nhập chuỗi cần đảo:\")\n",
    "print(chuoi[-1:-len(chuoi)-1:-1])"
   ]
  },
  {
   "cell_type": "code",
   "execution_count": 33,
   "id": "2ea6d54e",
   "metadata": {},
   "outputs": [
    {
     "name": "stdout",
     "output_type": "stream",
     "text": [
      "Nhập chuỗi cần đảo:xin chào các bạn\n",
      "Nhập số ký tự cần đảo:5\n",
      "c nixhào các bạn\n"
     ]
    }
   ],
   "source": [
    "#Bài 4\n",
    "chuoi = input(\"Nhập chuỗi cần đảo:\")\n",
    "lan = int(input(\"Nhập số ký tự cần đảo:\"))\n",
    "print(chuoi[lan-1:-len(chuoi)-1:-1]+chuoi[lan:len(chuoi):1])"
   ]
  },
  {
   "cell_type": "code",
   "execution_count": 86,
   "id": "d119e241",
   "metadata": {},
   "outputs": [
    {
     "name": "stdout",
     "output_type": "stream",
     "text": [
      "Nhập số trong khoảng từ 1 đến 3:3\n",
      "HM\n"
     ]
    }
   ],
   "source": [
    "#Bài 5\n",
    "chuoi = \"1.HN2.DN3.HM\"\n",
    "n = input(\"Nhập số trong khoảng từ 1 đến 3:\")\n",
    "index = chuoi.find(n)\n",
    "print(chuoi[index+2:index+4])"
   ]
  },
  {
   "cell_type": "code",
   "execution_count": 16,
   "id": "7e0168f3",
   "metadata": {},
   "outputs": [
    {
     "name": "stdout",
     "output_type": "stream",
     "text": [
      "Nhập vào số n:5\n",
      "5/(55*555) = 0.0016\n"
     ]
    }
   ],
   "source": [
    "#Bài thuc hanh 1\n",
    "n = input(\"Nhập vào số n:\")\n",
    "n1 = int(n)\n",
    "n2 = n1*n1\n",
    "n3 = n1*n2\n",
    "print(f\"{n}/({n*2}*{n*3}) = {n1/(n2*n3)}\")"
   ]
  },
  {
   "cell_type": "code",
   "execution_count": 20,
   "id": "bdcfd89f",
   "metadata": {},
   "outputs": [
    {
     "name": "stdout",
     "output_type": "stream",
     "text": [
      "Nhập vào số n:115\n",
      "Chênh lớn hơn 10\n"
     ]
    }
   ],
   "source": [
    "#Bài thuc hanh 2\n",
    "n = int(input(\"Nhập vào số n:\"))\n",
    "x = 100-n\n",
    "if x <=10 and x>=-10:\n",
    "    print(\"Chênh không quá 10\")\n",
    "else:\n",
    "    print(\"Chênh lớn hơn 10\")"
   ]
  },
  {
   "cell_type": "code",
   "execution_count": 32,
   "id": "4840364e",
   "metadata": {},
   "outputs": [
    {
     "name": "stdout",
     "output_type": "stream",
     "text": [
      "Nhập chuỗi:chu quang phúc\n",
      "Chuỗi mới là ********* phúc\n"
     ]
    }
   ],
   "source": [
    "#Bài thuc hanh 6\n",
    "n = input(\"Nhập chuỗi:\")\n",
    "cuoi_chuoi = n[-5:]\n",
    "dau_chuoi = n[0:len(n)-len(cuoi_chuoi)]\n",
    "chuoi_moi = \"*\"*len(dau_chuoi)+cuoi_chuoi\n",
    "print(f\"Chuỗi mới là {chuoi_moi}\")"
   ]
  },
  {
   "cell_type": "code",
   "execution_count": 34,
   "id": "5db50429",
   "metadata": {},
   "outputs": [
    {
     "name": "stdout",
     "output_type": "stream",
     "text": [
      "Nhập số a:3\n",
      "Nhập số b:1\n",
      "Nhập số c:4\n",
      "1\n",
      "3\n",
      "4\n"
     ]
    }
   ],
   "source": [
    "#Bài thuc hanh 5\n",
    "a = int(input(\"Nhập số a:\"))\n",
    "b = int(input(\"Nhập số b:\"))\n",
    "c = int(input(\"Nhập số c:\"))\n",
    "so_nho_nhat = min(a,b,c)\n",
    "so_lon_nhat = max(a,b,c)\n",
    "so_o_giua = a+b+c-so_nho_nhat-so_lon_nhat\n",
    "print(f\"{so_nho_nhat}\\n{so_o_giua}\\n{so_lon_nhat}\")"
   ]
  },
  {
   "cell_type": "code",
   "execution_count": 46,
   "id": "ded94744",
   "metadata": {},
   "outputs": [
    {
     "name": "stdout",
     "output_type": "stream",
     "text": [
      "Nhập số giây:5000\n",
      "1 giờ 23 phút 20 giây\n"
     ]
    }
   ],
   "source": [
    "#Bài thuc hanh 4\n",
    "giay = int(input(\"Nhập số giây:\"))\n",
    "gio = int(giay/3600)\n",
    "phut = int(giay/60) - gio * 60\n",
    "giay2 = giay - gio * 3600 - phut * 60\n",
    "print(f\"{gio} giờ {phut} phút {giay2} giây\")"
   ]
  },
  {
   "cell_type": "code",
   "execution_count": 56,
   "id": "86d59c90",
   "metadata": {},
   "outputs": [
    {
     "name": "stdout",
     "output_type": "stream",
     "text": [
      "Nhập vào chuỗi:phucc\n",
      "ký tự giữa là u\n"
     ]
    }
   ],
   "source": [
    "#Bài thuc hanh 8\n",
    "chuoi = input(\"Nhập vào chuỗi:\")\n",
    "x = len(chuoi)%2\n",
    "if x>0:\n",
    "    print(f\"ký tự giữa là {chuoi[x+1]}\")\n",
    "else:\n",
    "    print(\"không có ký tự giữa\")"
   ]
  },
  {
   "cell_type": "code",
   "execution_count": null,
   "id": "992e87d0",
   "metadata": {},
   "outputs": [],
   "source": []
  }
 ],
 "metadata": {
  "kernelspec": {
   "display_name": "Python 3",
   "language": "python",
   "name": "python3"
  },
  "language_info": {
   "codemirror_mode": {
    "name": "ipython",
    "version": 3
   },
   "file_extension": ".py",
   "mimetype": "text/x-python",
   "name": "python",
   "nbconvert_exporter": "python",
   "pygments_lexer": "ipython3",
   "version": "3.8.8"
  }
 },
 "nbformat": 4,
 "nbformat_minor": 5
}
